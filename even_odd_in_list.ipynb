{
  "nbformat": 4,
  "nbformat_minor": 0,
  "metadata": {
    "colab": {
      "name": "even odd in list.ipynb",
      "provenance": [],
      "authorship_tag": "ABX9TyOW2XY9t08rTCoQ9wCfvwwI",
      "include_colab_link": true
    },
    "kernelspec": {
      "name": "python3",
      "display_name": "Python 3"
    }
  },
  "cells": [
    {
      "cell_type": "markdown",
      "metadata": {
        "id": "view-in-github",
        "colab_type": "text"
      },
      "source": [
        "<a href=\"https://colab.research.google.com/github/cathrine36/python-practice/blob/master/even_odd_in_list.ipynb\" target=\"_parent\"><img src=\"https://colab.research.google.com/assets/colab-badge.svg\" alt=\"Open In Colab\"/></a>"
      ]
    },
    {
      "cell_type": "code",
      "metadata": {
        "id": "wHExqL5iS0R5",
        "colab_type": "code",
        "colab": {
          "base_uri": "https://localhost:8080/",
          "height": 168
        },
        "outputId": "ff2ab477-df8e-42ee-f686-45c7dce68c0e"
      },
      "source": [
        "def splitevenodd(A): \n",
        "   evenlist = [] \n",
        "   oddlist = [] \n",
        "   for i in A: \n",
        "      if (i % 2 == 0): \n",
        "         evenlist.append(i) \n",
        "      else: \n",
        "         oddlist.append(i) \n",
        "   print(\"Even lists:\", evenlist) \n",
        "   print(\"Odd lists:\", oddlist) \n",
        "  \n",
        "A=list()\n",
        "n=int(input(\"Enter the size of the List ::\"))\n",
        "print(\"Enter the Element of  List ::\")\n",
        "for i in range(int(n)):\n",
        "   k=int(input(\"\"))\n",
        "   A.append(k)\n",
        "splitevenodd(A)"
      ],
      "execution_count": 1,
      "outputs": [
        {
          "output_type": "stream",
          "text": [
            "Enter the size of the List ::5\n",
            "Enter the Element of  List ::\n",
            "2\n",
            "3\n",
            "4\n",
            "5\n",
            "6\n",
            "Even lists: [2, 4, 6]\n",
            "Odd lists: [3, 5]\n"
          ],
          "name": "stdout"
        }
      ]
    }
  ]
}