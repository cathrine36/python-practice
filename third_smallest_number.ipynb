{
  "nbformat": 4,
  "nbformat_minor": 0,
  "metadata": {
    "colab": {
      "name": "third smallest number.ipynb",
      "provenance": [],
      "authorship_tag": "ABX9TyMGE27/V1F9sKkmaKgmXKT2",
      "include_colab_link": true
    },
    "kernelspec": {
      "name": "python3",
      "display_name": "Python 3"
    }
  },
  "cells": [
    {
      "cell_type": "markdown",
      "metadata": {
        "id": "view-in-github",
        "colab_type": "text"
      },
      "source": [
        "<a href=\"https://colab.research.google.com/github/cathrine36/python-practice/blob/master/third_smallest_number.ipynb\" target=\"_parent\"><img src=\"https://colab.research.google.com/assets/colab-badge.svg\" alt=\"Open In Colab\"/></a>"
      ]
    },
    {
      "cell_type": "code",
      "metadata": {
        "id": "8F1-MoVhSFdL",
        "colab_type": "code",
        "colab": {
          "base_uri": "https://localhost:8080/",
          "height": 34
        },
        "outputId": "b658d329-92f8-4e4f-abad-50a5d999f1d9"
      },
      "source": [
        "def find_len(list1): \n",
        "    length = len(list1) \n",
        "    list1.sort() \n",
        "    print(\"third Smallest element is:\", list1[2]) \n",
        "\n",
        "list1=[12, 45, 2, 41, 31, 10, 8, 6, 4] \n",
        "Largest = find_len(list1)"
      ],
      "execution_count": 3,
      "outputs": [
        {
          "output_type": "stream",
          "text": [
            "third Smallest element is: 6\n"
          ],
          "name": "stdout"
        }
      ]
    }
  ]
}