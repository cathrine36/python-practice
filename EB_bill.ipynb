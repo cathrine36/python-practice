{
  "nbformat": 4,
  "nbformat_minor": 0,
  "metadata": {
    "colab": {
      "name": "EB bill.ipynb",
      "provenance": [],
      "authorship_tag": "ABX9TyPeb4MMfVH5rf0qD1eZfORF",
      "include_colab_link": true
    },
    "kernelspec": {
      "name": "python3",
      "display_name": "Python 3"
    }
  },
  "cells": [
    {
      "cell_type": "markdown",
      "metadata": {
        "id": "view-in-github",
        "colab_type": "text"
      },
      "source": [
        "<a href=\"https://colab.research.google.com/github/cathrine36/python-practice/blob/master/EB_bill.ipynb\" target=\"_parent\"><img src=\"https://colab.research.google.com/assets/colab-badge.svg\" alt=\"Open In Colab\"/></a>"
      ]
    },
    {
      "cell_type": "code",
      "metadata": {
        "id": "EvWNi2bXrZPW",
        "colab_type": "code",
        "colab": {
          "base_uri": "https://localhost:8080/",
          "height": 67
        },
        "outputId": "01e76976-79cb-42af-f77a-3aa18a2ac3bc"
      },
      "source": [
        "units=int(input(\"Number of unit consumed: \"))\n",
        "if(units>0 and units<=100):\n",
        "    pay=units*1.5\n",
        "    fix=25.00\n",
        "elif(units>100 and units<=200):\n",
        "    pay(100*1.5)+(units-100)*2.5\n",
        "    fix=50.00\n",
        "elif(units>200 and units<=300):\n",
        "    pay=(100*1.5)+(200-100)*2.5+(units-200)*4\n",
        "    fix=50.00\n",
        "elif(units>300):\n",
        "    pay=2500;\n",
        "    fix=75.00\n",
        "else:\n",
        "    pay=0;\n",
        "    \n",
        "Total= pay+fix\n",
        "print(\"\\nElecticity bill pay=%.2f: \" %Total);"
      ],
      "execution_count": 5,
      "outputs": [
        {
          "output_type": "stream",
          "text": [
            "Number of unit consumed: 580\n",
            "\n",
            "Electicity bill pay=2575.00: \n"
          ],
          "name": "stdout"
        }
      ]
    }
  ]
}