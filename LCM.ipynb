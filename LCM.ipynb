{
  "nbformat": 4,
  "nbformat_minor": 0,
  "metadata": {
    "colab": {
      "name": "LCM.ipynb",
      "provenance": [],
      "authorship_tag": "ABX9TyO32BvXIBXAy+5TbKBCfrEa",
      "include_colab_link": true
    },
    "kernelspec": {
      "name": "python3",
      "display_name": "Python 3"
    }
  },
  "cells": [
    {
      "cell_type": "markdown",
      "metadata": {
        "id": "view-in-github",
        "colab_type": "text"
      },
      "source": [
        "<a href=\"https://colab.research.google.com/github/cathrine36/python-practice/blob/master/LCM.ipynb\" target=\"_parent\"><img src=\"https://colab.research.google.com/assets/colab-badge.svg\" alt=\"Open In Colab\"/></a>"
      ]
    },
    {
      "cell_type": "code",
      "metadata": {
        "id": "3WUgXvns3rTh",
        "colab_type": "code",
        "colab": {
          "base_uri": "https://localhost:8080/",
          "height": 67
        },
        "outputId": "d25aed12-f201-46e9-c527-a1c5c04caf38"
      },
      "source": [
        "def compute_lcm(x, y):\n",
        "\n",
        "   if x > y:\n",
        "       greater = x\n",
        "   else:\n",
        "       greater = y\n",
        "\n",
        "   while(True):\n",
        "       if((greater % x == 0) and (greater % y == 0)):\n",
        "           lcm = greater\n",
        "           break\n",
        "       greater += 1\n",
        "\n",
        "   return lcm\n",
        "\n",
        "num1 = int(input('num1:'))\n",
        "num2 = int(input('num2:'))\n",
        "\n",
        "print(\"The L.C.M. is\", compute_lcm(num1, num2))\n"
      ],
      "execution_count": 2,
      "outputs": [
        {
          "output_type": "stream",
          "text": [
            "num1:67\n",
            "num2:56\n",
            "The L.C.M. is 3752\n"
          ],
          "name": "stdout"
        }
      ]
    }
  ]
}