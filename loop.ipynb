{
  "nbformat": 4,
  "nbformat_minor": 0,
  "metadata": {
    "colab": {
      "name": "loop.ipynb",
      "provenance": [],
      "authorship_tag": "ABX9TyOBdtHbQP/ZQs5/7F/uJTCg",
      "include_colab_link": true
    },
    "kernelspec": {
      "name": "python3",
      "display_name": "Python 3"
    }
  },
  "cells": [
    {
      "cell_type": "markdown",
      "metadata": {
        "id": "view-in-github",
        "colab_type": "text"
      },
      "source": [
        "<a href=\"https://colab.research.google.com/github/cathrine36/python-practice/blob/master/loop.ipynb\" target=\"_parent\"><img src=\"https://colab.research.google.com/assets/colab-badge.svg\" alt=\"Open In Colab\"/></a>"
      ]
    },
    {
      "cell_type": "code",
      "metadata": {
        "id": "ATtUqlwoGtk9",
        "colab_type": "code",
        "colab": {
          "base_uri": "https://localhost:8080/",
          "height": 34
        },
        "outputId": "a5ec5944-4d92-4956-d6f4-01f8adebd24c"
      },
      "source": [
        "numbers = [6, 5, 3, 8, 4, 2, 5, 4, 11]\n",
        "sum = 0\n",
        "for val in numbers:\n",
        "\tsum = sum+val\n",
        "\n",
        "print(\"The sum is\", sum)"
      ],
      "execution_count": 1,
      "outputs": [
        {
          "output_type": "stream",
          "text": [
            "The sum is 48\n"
          ],
          "name": "stdout"
        }
      ]
    },
    {
      "cell_type": "code",
      "metadata": {
        "id": "t2gCnwbJHCg1",
        "colab_type": "code",
        "colab": {
          "base_uri": "https://localhost:8080/",
          "height": 84
        },
        "outputId": "e324940e-cbd0-4283-8342-2b750018f80a"
      },
      "source": [
        "print(range(10))\n",
        "\n",
        "print(list(range(10)))\n",
        "\n",
        "print(list(range(2, 8)))\n",
        "\n",
        "print(list(range(2, 20, 3)))"
      ],
      "execution_count": 2,
      "outputs": [
        {
          "output_type": "stream",
          "text": [
            "range(0, 10)\n",
            "[0, 1, 2, 3, 4, 5, 6, 7, 8, 9]\n",
            "[2, 3, 4, 5, 6, 7]\n",
            "[2, 5, 8, 11, 14, 17]\n"
          ],
          "name": "stdout"
        }
      ]
    },
    {
      "cell_type": "code",
      "metadata": {
        "id": "N4uRZxwxHNcP",
        "colab_type": "code",
        "colab": {
          "base_uri": "https://localhost:8080/",
          "height": 67
        },
        "outputId": "8cb28d1f-ef75-4ac4-ae84-cbaee5d2c5fc"
      },
      "source": [
        "a = ['hi', 'hello', 'welcome']\n",
        "\n",
        "for i in range(len(a)):\n",
        "\tprint(\"I like\", a[i])"
      ],
      "execution_count": 3,
      "outputs": [
        {
          "output_type": "stream",
          "text": [
            "I like hi\n",
            "I like hello\n",
            "I like welcome\n"
          ],
          "name": "stdout"
        }
      ]
    },
    {
      "cell_type": "code",
      "metadata": {
        "id": "Me2sSM7NHct3",
        "colab_type": "code",
        "colab": {
          "base_uri": "https://localhost:8080/",
          "height": 84
        },
        "outputId": "9c951a45-c39d-4b81-a7e2-1b647f66705b"
      },
      "source": [
        "digits = [0, 1, 5]\n",
        "\n",
        "for i in digits:\n",
        "    print(i)\n",
        "else:\n",
        "    print(\"No items left.\")\n"
      ],
      "execution_count": 4,
      "outputs": [
        {
          "output_type": "stream",
          "text": [
            "0\n",
            "1\n",
            "5\n",
            "No items left.\n"
          ],
          "name": "stdout"
        }
      ]
    },
    {
      "cell_type": "code",
      "metadata": {
        "id": "xW98E5WSHvOW",
        "colab_type": "code",
        "colab": {
          "base_uri": "https://localhost:8080/",
          "height": 34
        },
        "outputId": "14a897da-7282-4d45-8865-77ddf8a8e5c6"
      },
      "source": [
        "student_name = 'James'\n",
        "\n",
        "marks = {'James': 90, 'Jules': 55, 'Arthur': 77}\n",
        "\n",
        "for student in marks:\n",
        "    if student == student_name:\n",
        "        print(marks[student])\n",
        "        break\n",
        "else:\n",
        "    print('No entry with that name found.')"
      ],
      "execution_count": 5,
      "outputs": [
        {
          "output_type": "stream",
          "text": [
            "90\n"
          ],
          "name": "stdout"
        }
      ]
    }
  ]
}