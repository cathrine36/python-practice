{
  "nbformat": 4,
  "nbformat_minor": 0,
  "metadata": {
    "colab": {
      "name": "sum of squares .ipynb",
      "provenance": [],
      "authorship_tag": "ABX9TyOVige5Lk9G59jUfdvQjK6H",
      "include_colab_link": true
    },
    "kernelspec": {
      "name": "python3",
      "display_name": "Python 3"
    }
  },
  "cells": [
    {
      "cell_type": "markdown",
      "metadata": {
        "id": "view-in-github",
        "colab_type": "text"
      },
      "source": [
        "<a href=\"https://colab.research.google.com/github/cathrine36/python-practice/blob/master/sum_of_squares_.ipynb\" target=\"_parent\"><img src=\"https://colab.research.google.com/assets/colab-badge.svg\" alt=\"Open In Colab\"/></a>"
      ]
    },
    {
      "cell_type": "code",
      "metadata": {
        "id": "O0EunGMVxPqZ",
        "colab_type": "code",
        "colab": {
          "base_uri": "https://localhost:8080/",
          "height": 34
        },
        "outputId": "afef8207-e893-4a50-e973-d6ae1a71db80"
      },
      "source": [
        "def squaresum(n) : \n",
        "    sm = 0\n",
        "    for i in range(0, n-1) : \n",
        "        sm = sm + (i * i) \n",
        "      \n",
        "    return sm \n",
        "   \n",
        "n = 10\n",
        "print(squaresum(n)) \n",
        "  "
      ],
      "execution_count": 16,
      "outputs": [
        {
          "output_type": "stream",
          "text": [
            "204\n"
          ],
          "name": "stdout"
        }
      ]
    }
  ]
}