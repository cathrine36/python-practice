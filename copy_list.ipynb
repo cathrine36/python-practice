{
  "nbformat": 4,
  "nbformat_minor": 0,
  "metadata": {
    "colab": {
      "name": "copy list.ipynb",
      "provenance": [],
      "authorship_tag": "ABX9TyN/5DCTAOZgFz0CApFi1Lc+",
      "include_colab_link": true
    },
    "kernelspec": {
      "name": "python3",
      "display_name": "Python 3"
    }
  },
  "cells": [
    {
      "cell_type": "markdown",
      "metadata": {
        "id": "view-in-github",
        "colab_type": "text"
      },
      "source": [
        "<a href=\"https://colab.research.google.com/github/cathrine36/python-practice/blob/master/copy_list.ipynb\" target=\"_parent\"><img src=\"https://colab.research.google.com/assets/colab-badge.svg\" alt=\"Open In Colab\"/></a>"
      ]
    },
    {
      "cell_type": "code",
      "metadata": {
        "id": "2DoSx3Dp5mkt",
        "colab_type": "code",
        "colab": {
          "base_uri": "https://localhost:8080/",
          "height": 34
        },
        "outputId": "1c99a389-c614-4a6d-ebee-a0e30072eb0d"
      },
      "source": [
        "old_list = ['cat', 0, 6.7]\n",
        "\n",
        "new_list = old_list.copy()\n",
        "\n",
        "print('Copied List:', new_list)"
      ],
      "execution_count": 1,
      "outputs": [
        {
          "output_type": "stream",
          "text": [
            "Copied List: ['cat', 0, 6.7]\n"
          ],
          "name": "stdout"
        }
      ]
    }
  ]
}