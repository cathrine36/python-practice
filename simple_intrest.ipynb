{
  "nbformat": 4,
  "nbformat_minor": 0,
  "metadata": {
    "colab": {
      "name": "simple intrest.ipynb",
      "provenance": [],
      "authorship_tag": "ABX9TyMk71F26Tqv3gO+dvkBmRpC",
      "include_colab_link": true
    },
    "kernelspec": {
      "name": "python3",
      "display_name": "Python 3"
    }
  },
  "cells": [
    {
      "cell_type": "markdown",
      "metadata": {
        "id": "view-in-github",
        "colab_type": "text"
      },
      "source": [
        "<a href=\"https://colab.research.google.com/github/cathrine36/python-practice/blob/master/simple_intrest.ipynb\" target=\"_parent\"><img src=\"https://colab.research.google.com/assets/colab-badge.svg\" alt=\"Open In Colab\"/></a>"
      ]
    },
    {
      "cell_type": "code",
      "metadata": {
        "id": "-D0bRGNsx9WM",
        "colab_type": "code",
        "colab": {}
      },
      "source": [
        "def simple_interest(p,t,r): \n",
        "    print('The principal is', p) \n",
        "    print('The time period is', t) \n",
        "    print('The rate of interest is',r) \n",
        "      \n",
        "    si = (p * t * r)/100\n",
        "      \n",
        "    print('The Simple Interest is', si) \n",
        "    return si \n",
        "      \n",
        "simple_interest(8, 6, 8) \n",
        "Output"
      ],
      "execution_count": null,
      "outputs": []
    }
  ]
}