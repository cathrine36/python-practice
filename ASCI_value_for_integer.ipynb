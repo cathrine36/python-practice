{
  "nbformat": 4,
  "nbformat_minor": 0,
  "metadata": {
    "colab": {
      "name": "ASCI  value for integer.ipynb",
      "provenance": [],
      "authorship_tag": "ABX9TyOgP/q+sO1pea8T9t8/+mLm",
      "include_colab_link": true
    },
    "kernelspec": {
      "name": "python3",
      "display_name": "Python 3"
    }
  },
  "cells": [
    {
      "cell_type": "markdown",
      "metadata": {
        "id": "view-in-github",
        "colab_type": "text"
      },
      "source": [
        "<a href=\"https://colab.research.google.com/github/cathrine36/python-practice/blob/master/ASCI_value_for_integer.ipynb\" target=\"_parent\"><img src=\"https://colab.research.google.com/assets/colab-badge.svg\" alt=\"Open In Colab\"/></a>"
      ]
    },
    {
      "cell_type": "code",
      "metadata": {
        "id": "DCNu8XHW2PII",
        "colab_type": "code",
        "colab": {
          "base_uri": "https://localhost:8080/",
          "height": 50
        },
        "outputId": "a333fff5-2bed-4441-d280-d09c07b94522"
      },
      "source": [
        "num = int(input(\"Enter ASCII value: \"))\n",
        "print(chr(num))\n",
        "\n"
      ],
      "execution_count": 6,
      "outputs": [
        {
          "output_type": "stream",
          "text": [
            "Enter ASCII value: 77\n",
            "M\n"
          ],
          "name": "stdout"
        }
      ]
    }
  ]
}