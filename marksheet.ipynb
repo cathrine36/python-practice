{
  "nbformat": 4,
  "nbformat_minor": 0,
  "metadata": {
    "colab": {
      "name": "marksheet.ipynb",
      "provenance": [],
      "authorship_tag": "ABX9TyMehct2vTwFVPmabsPIJ7k7",
      "include_colab_link": true
    },
    "kernelspec": {
      "name": "python3",
      "display_name": "Python 3"
    }
  },
  "cells": [
    {
      "cell_type": "markdown",
      "metadata": {
        "id": "view-in-github",
        "colab_type": "text"
      },
      "source": [
        "<a href=\"https://colab.research.google.com/github/cathrine36/python-practice/blob/master/marksheet.ipynb\" target=\"_parent\"><img src=\"https://colab.research.google.com/assets/colab-badge.svg\" alt=\"Open In Colab\"/></a>"
      ]
    },
    {
      "cell_type": "code",
      "metadata": {
        "id": "8DrhB2L1h4Bk",
        "colab_type": "code",
        "colab": {
          "base_uri": "https://localhost:8080/",
          "height": 286
        },
        "outputId": "8ea4421c-22c6-4935-b1f7-96e56b7fade6"
      },
      "source": [
        "print('CLASS 5th MARKS')\n",
        "t=int(input('total number of students:'))\n",
        "for i in range(1,t+1):\n",
        "  print('ROLL NO.',i)\n",
        "  math=int(input('maths marks:'))\n",
        "  sci=int(input('science marks:'))\n",
        "  tam=int(input('tamil marks:'))\n",
        "  cs=int(input('computer science marks:'))\n",
        "  soc=int(input('social marks:'))\n",
        "  tot=(math+sci+tam+cs+soc)/5\n",
        "  print('average marks of roll no. ',i,'is',tot)\n",
        "  \n",
        "  \n"
      ],
      "execution_count": 3,
      "outputs": [
        {
          "output_type": "stream",
          "text": [
            "CLASS 5th MARKS\n",
            "total number of students:2\n",
            "ROLL NO. 1\n",
            "maths marks:100\n",
            "science marks:100\n",
            "tamil marks:100\n",
            "computer science marks:0\n",
            "social marks:100\n",
            "average marks of roll no.  1 is 80.0\n",
            "ROLL NO. 2\n",
            "maths marks:40\n",
            "science marks:49\n",
            "tamil marks:59\n",
            "computer science marks:0\n",
            "social marks:70\n",
            "average marks of roll no.  2 is 43.6\n"
          ],
          "name": "stdout"
        }
      ]
    }
  ]
}