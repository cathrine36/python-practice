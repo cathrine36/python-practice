{
  "nbformat": 4,
  "nbformat_minor": 0,
  "metadata": {
    "colab": {
      "name": "Reverse the listsystems = ['Windows', 'macOS', 'Linux'] print('Original List:', systems)  # List Reverse systems.reverse()  # updated list print('Updated List:', systems).ipynb",
      "provenance": [],
      "authorship_tag": "ABX9TyOLjoYZ5pgzDDy6PEse+uQ4",
      "include_colab_link": true
    },
    "kernelspec": {
      "name": "python3",
      "display_name": "Python 3"
    }
  },
  "cells": [
    {
      "cell_type": "markdown",
      "metadata": {
        "id": "view-in-github",
        "colab_type": "text"
      },
      "source": [
        "<a href=\"https://colab.research.google.com/github/cathrine36/python-practice/blob/master/Reverse_the_listsystems_%3D_%5B'Windows'%2C_'macOS'%2C_'Linux'%5D_print('Original_List_'%2C_systems)_List_Reverse_systems_reverse()_updated_list_print('Updated_List_'%2C_systems).ipynb\" target=\"_parent\"><img src=\"https://colab.research.google.com/assets/colab-badge.svg\" alt=\"Open In Colab\"/></a>"
      ]
    },
    {
      "cell_type": "code",
      "metadata": {
        "id": "4JgoIRmk4fps",
        "colab_type": "code",
        "colab": {
          "base_uri": "https://localhost:8080/",
          "height": 50
        },
        "outputId": "1f3d3bc7-80ee-45fd-e7ee-817242d6cdc5"
      },
      "source": [
        "systems = ['windows', 'macOS', 'Linux']\n",
        "print('Original List:', systems)\n",
        "\n",
        "\n",
        "systems.reverse()\n",
        "print('Reversed list:', systems)"
      ],
      "execution_count": 2,
      "outputs": [
        {
          "output_type": "stream",
          "text": [
            "Original List: ['windows', 'macOS', 'Linux']\n",
            "Reversed list: ['Linux', 'macOS', 'windows']\n"
          ],
          "name": "stdout"
        }
      ]
    }
  ]
}