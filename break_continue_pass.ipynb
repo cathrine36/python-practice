{
  "nbformat": 4,
  "nbformat_minor": 0,
  "metadata": {
    "colab": {
      "name": "break ....continue ....pass.ipynb",
      "provenance": [],
      "authorship_tag": "ABX9TyNSV5wOrFsbwgieM0O447mn",
      "include_colab_link": true
    },
    "kernelspec": {
      "name": "python3",
      "display_name": "Python 3"
    }
  },
  "cells": [
    {
      "cell_type": "markdown",
      "metadata": {
        "id": "view-in-github",
        "colab_type": "text"
      },
      "source": [
        "<a href=\"https://colab.research.google.com/github/cathrine36/python-practice/blob/master/break_continue_pass.ipynb\" target=\"_parent\"><img src=\"https://colab.research.google.com/assets/colab-badge.svg\" alt=\"Open In Colab\"/></a>"
      ]
    },
    {
      "cell_type": "code",
      "metadata": {
        "id": "ejZ2fqQGzJ57",
        "colab_type": "code",
        "colab": {
          "base_uri": "https://localhost:8080/",
          "height": 118
        },
        "outputId": "92f4228b-4fa5-4408-8020-4d57e008409e"
      },
      "source": [
        "for val in \"cathrine\":\n",
        "    if val == \"i\":\n",
        "        break\n",
        "    print(val)\n",
        "\n",
        "print(\"end\")\n"
      ],
      "execution_count": 2,
      "outputs": [
        {
          "output_type": "stream",
          "text": [
            "c\n",
            "a\n",
            "t\n",
            "h\n",
            "r\n",
            "end\n"
          ],
          "name": "stdout"
        }
      ]
    },
    {
      "cell_type": "code",
      "metadata": {
        "id": "dhkPnAtEzrBl",
        "colab_type": "code",
        "colab": {
          "base_uri": "https://localhost:8080/",
          "height": 151
        },
        "outputId": "47a18729-2690-4238-9b69-f3bae449cd46"
      },
      "source": [
        "for val in \"cathrine\":\n",
        "    if val == \"i\":\n",
        "        continue\n",
        "    print(val)\n",
        "\n",
        "print(\"The end\")"
      ],
      "execution_count": 3,
      "outputs": [
        {
          "output_type": "stream",
          "text": [
            "c\n",
            "a\n",
            "t\n",
            "h\n",
            "r\n",
            "n\n",
            "e\n",
            "The end\n"
          ],
          "name": "stdout"
        }
      ]
    },
    {
      "cell_type": "code",
      "metadata": {
        "id": "KK4ZOidQ1CYF",
        "colab_type": "code",
        "colab": {}
      },
      "source": [
        ""
      ],
      "execution_count": 0,
      "outputs": []
    },
    {
      "cell_type": "code",
      "metadata": {
        "id": "vHwMOuwb1J7w",
        "colab_type": "code",
        "colab": {}
      },
      "source": [
        "sequence = {'c', 'a', 't', 'h','r','i','n','e'}\n",
        "for val in sequence:\n",
        "    pass"
      ],
      "execution_count": 0,
      "outputs": []
    }
  ]
}